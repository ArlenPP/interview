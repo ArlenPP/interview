{
 "cells": [
  {
   "cell_type": "code",
   "execution_count": 36,
   "metadata": {},
   "outputs": [],
   "source": [
    "from datetime import datetime\n",
    "from dateutil.relativedelta import relativedelta, FR\n",
    "from datetime import date\n",
    "from datetime import timedelta"
   ]
  },
  {
   "cell_type": "code",
   "execution_count": 21,
   "metadata": {},
   "outputs": [],
   "source": [
    "t = datetime(2019, 12, 18)"
   ]
  },
  {
   "cell_type": "code",
   "execution_count": 22,
   "metadata": {},
   "outputs": [],
   "source": [
    "# weekly contract\n",
    "# weekday: 4 is Friday\n",
    "this_fri = t + relativedelta(weekday=FR(+1))\n",
    "if t == this_fri: \n",
    "    weekly_contract = this_fri + relativedelta(weekday=FR(+2))\n",
    "else:\n",
    "    weekly_contract = this_fri"
   ]
  },
  {
   "cell_type": "code",
   "execution_count": 23,
   "metadata": {},
   "outputs": [],
   "source": [
    "# biweekly contract\n",
    "biweekly_contract = weekly_contract + relativedelta(weekday=FR(+2))"
   ]
  },
  {
   "cell_type": "code",
   "execution_count": 24,
   "metadata": {},
   "outputs": [
    {
     "data": {
      "text/plain": [
       "datetime.datetime(2020, 1, 31, 0, 0)"
      ]
     },
     "execution_count": 24,
     "metadata": {},
     "output_type": "execute_result"
    }
   ],
   "source": [
    "weekly_contract"
   ]
  },
  {
   "cell_type": "code",
   "execution_count": 25,
   "metadata": {},
   "outputs": [
    {
     "data": {
      "text/plain": [
       "datetime.datetime(2020, 2, 7, 0, 0)"
      ]
     },
     "execution_count": 25,
     "metadata": {},
     "output_type": "execute_result"
    }
   ],
   "source": [
    "biweekly_contract"
   ]
  },
  {
   "cell_type": "markdown",
   "metadata": {},
   "source": [
    "# check 是否在季合約當日"
   ]
  },
  {
   "cell_type": "code",
   "execution_count": 26,
   "metadata": {},
   "outputs": [],
   "source": [
    "from datetime import datetime\n",
    "import calendar"
   ]
  },
  {
   "cell_type": "code",
   "execution_count": 86,
   "metadata": {},
   "outputs": [],
   "source": [
    "biweekly_contract = datetime(2020, 3, 27)\n",
    "t = biweekly_contract"
   ]
  },
  {
   "cell_type": "code",
   "execution_count": 87,
   "metadata": {},
   "outputs": [],
   "source": [
    "def find_quarterly_month(month):\n",
    "    m = [3, 6, 9, 12]\n",
    "    if month % 3 == 0:\n",
    "        return month\n",
    "    else:\n",
    "        return m[int(month/3)]"
   ]
  },
  {
   "cell_type": "code",
   "execution_count": 88,
   "metadata": {},
   "outputs": [],
   "source": [
    "def find_last_fri(year, month):\n",
    "    c = calendar.Calendar(firstweekday=calendar.MONDAY)\n",
    "    monthcal = c.monthdatescalendar(year,month)\n",
    "    last_friday = [day for week in monthcal for day in week if \\\n",
    "                    day.weekday() == calendar.FRIDAY and \\\n",
    "                    day.month == month][-1]\n",
    "    return last_friday"
   ]
  },
  {
   "cell_type": "code",
   "execution_count": 89,
   "metadata": {},
   "outputs": [],
   "source": [
    "q_month = find_quarterly_month(t.month)\n",
    "year = t.year\n",
    "if find_last_fri(year, q_month) == t.date():\n",
    "    next_q = t + relativedelta(months=3)\n",
    "    quartely_contract = find_last_fri(next_q.year, next_q.month)\n",
    "else:\n",
    "    quartely_contract = find_last_fri(year, q_month)"
   ]
  },
  {
   "cell_type": "code",
   "execution_count": 90,
   "metadata": {},
   "outputs": [
    {
     "data": {
      "text/plain": [
       "datetime.date(2020, 6, 26)"
      ]
     },
     "execution_count": 90,
     "metadata": {},
     "output_type": "execute_result"
    }
   ],
   "source": [
    "quartely_contract"
   ]
  },
  {
   "cell_type": "code",
   "execution_count": null,
   "metadata": {},
   "outputs": [],
   "source": []
  }
 ],
 "metadata": {
  "kernelspec": {
   "display_name": "base",
   "language": "python",
   "name": "base"
  },
  "language_info": {
   "codemirror_mode": {
    "name": "ipython",
    "version": 3
   },
   "file_extension": ".py",
   "mimetype": "text/x-python",
   "name": "python",
   "nbconvert_exporter": "python",
   "pygments_lexer": "ipython3",
   "version": "3.6.8"
  }
 },
 "nbformat": 4,
 "nbformat_minor": 4
}
